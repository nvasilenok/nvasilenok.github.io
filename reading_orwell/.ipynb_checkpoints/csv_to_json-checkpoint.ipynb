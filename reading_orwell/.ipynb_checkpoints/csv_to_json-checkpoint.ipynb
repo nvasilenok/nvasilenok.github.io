{
 "cells": [
  {
   "cell_type": "code",
   "execution_count": 29,
   "id": "be0e4076-a539-4101-bdd1-77e1c64885f7",
   "metadata": {},
   "outputs": [],
   "source": [
    "import pandas as pd\n",
    "import json\n",
    "import os\n",
    "from datetime import datetime"
   ]
  },
  {
   "cell_type": "code",
   "execution_count": 30,
   "id": "4160c986-59df-4504-b782-07ef69d5670c",
   "metadata": {},
   "outputs": [],
   "source": [
    "def parse_mixed_date(date_str):\n",
    "    for fmt in (\"%B %d, %Y\", \"%B, %Y\"):\n",
    "        try:\n",
    "            return datetime.strptime(date_str.strip(), fmt)\n",
    "        except ValueError:\n",
    "            continue\n",
    "    return pd.NaT  # Return Not-a-Time if parsing fails"
   ]
  },
  {
   "cell_type": "code",
   "execution_count": 31,
   "id": "07dc0801-6cdb-45b0-8eaf-27cc7d4e4ec0",
   "metadata": {},
   "outputs": [],
   "source": [
    "os.chdir(\"/Users/nvasilenok/Documents/Profession/website/reading_orwell\")"
   ]
  },
  {
   "cell_type": "code",
   "execution_count": 36,
   "id": "b9f707a7-0b68-4363-8c47-9d6ee3da58b5",
   "metadata": {},
   "outputs": [],
   "source": [
    "df = pd.read_csv('entries.csv', dtype={'date': str})"
   ]
  },
  {
   "cell_type": "code",
   "execution_count": 37,
   "id": "4dac1d68-fb1e-4104-ac7a-c70224930756",
   "metadata": {},
   "outputs": [],
   "source": [
    "df['date_parsed'] = df['date'].apply(parse_mixed_date)\n",
    "df['date_parsed'] = df['date_parsed'].dt.strftime('%Y-%m-%d')"
   ]
  },
  {
   "cell_type": "code",
   "execution_count": 38,
   "id": "bb04232a-bf03-4d8a-ac1b-6fedc464ad15",
   "metadata": {},
   "outputs": [],
   "source": [
    "to_json = df[[\"date\", \"date_parsed\", \"public\", \"type\", \"description\"]]"
   ]
  },
  {
   "cell_type": "code",
   "execution_count": 39,
   "id": "724ec465-355a-4de4-a232-5d6f58d5714f",
   "metadata": {},
   "outputs": [
    {
     "name": "stderr",
     "output_type": "stream",
     "text": [
      "/var/folders/dk/7dsvbmsj6j14mc4pg1fm9kh80000gn/T/ipykernel_20158/1907103585.py:1: SettingWithCopyWarning: \n",
      "A value is trying to be set on a copy of a slice from a DataFrame.\n",
      "Try using .loc[row_indexer,col_indexer] = value instead\n",
      "\n",
      "See the caveats in the documentation: https://pandas.pydata.org/pandas-docs/stable/user_guide/indexing.html#returning-a-view-versus-a-copy\n",
      "  to_json['public'] = to_json.public.astype(int)\n"
     ]
    }
   ],
   "source": [
    "to_json['public'] = to_json.public.astype(int)\n",
    "entries = to_json.to_dict(orient='records')\n",
    "import json\n",
    "with open('entries.json', 'w', encoding='utf-8') as f:\n",
    "    json.dump(entries, f, indent=2, ensure_ascii=False)"
   ]
  }
 ],
 "metadata": {
  "kernelspec": {
   "display_name": "myenv",
   "language": "python",
   "name": "myenv"
  },
  "language_info": {
   "codemirror_mode": {
    "name": "ipython",
    "version": 3
   },
   "file_extension": ".py",
   "mimetype": "text/x-python",
   "name": "python",
   "nbconvert_exporter": "python",
   "pygments_lexer": "ipython3",
   "version": "3.12.3"
  }
 },
 "nbformat": 4,
 "nbformat_minor": 5
}
